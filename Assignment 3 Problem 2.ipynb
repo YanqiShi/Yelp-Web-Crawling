{
 "cells": [
  {
   "cell_type": "code",
   "execution_count": 112,
   "metadata": {},
   "outputs": [],
   "source": [
    "from bs4 import BeautifulSoup\n",
    "import urllib.request\n",
    "import json\n",
    "import csv"
   ]
  },
  {
   "cell_type": "code",
   "execution_count": 113,
   "metadata": {},
   "outputs": [],
   "source": [
    "res_list = ['ranking', 'name', 'rating', 'reviewCount', 'phone', 'formattedAddress', 'neighborhoods']"
   ]
  },
  {
   "cell_type": "code",
   "execution_count": 114,
   "metadata": {},
   "outputs": [],
   "source": [
    "for page in range(10):\n",
    "    url = f'https://www.yelp.com/search?find_desc=ice%20cream&find_loc=New%20York%2C%20NY%2010023&ns=1&start={page*10}'\n",
    "    ourUrl = urllib.request.urlopen(url)\n",
    "    soup = BeautifulSoup(ourUrl, 'html.parser')\n",
    "    data = soup.find_all('script', type='application/json')[1].get_text()\n",
    "    data_new = data[4:-3]\n",
    "    data_json = json.loads(data_new)\n",
    "    for res in range(10):\n",
    "        info = []\n",
    "        try:\n",
    "            result = data_json['searchPageProps']['searchResultsProps']['searchResults'][res+4]['searchResultBusiness']\n",
    "        except IndexError:\n",
    "            break\n",
    "        else:\n",
    "            for dim in res_list:\n",
    "                info.append(result[dim])\n",
    "        with open('ice_cream.csv', mode='a') as icecream_file:\n",
    "            icecream_writer = csv.writer(icecream_file, delimiter=',', quotechar='\"', quoting=csv.QUOTE_MINIMAL)\n",
    "            icecream_writer.writerow(info)\n",
    "            "
   ]
  },
  {
   "cell_type": "code",
   "execution_count": 115,
   "metadata": {},
   "outputs": [],
   "source": [
    "# analysis part\n",
    "import request\n",
    "import pandas as pd\n",
    "%matplotlib inline"
   ]
  },
  {
   "cell_type": "code",
   "execution_count": 116,
   "metadata": {},
   "outputs": [],
   "source": [
    "info_cream = pd.read_csv('ice_cream.csv',sep=',',names=['ranking','name','rating','reviewCount','phone','address','district'])"
   ]
  },
  {
   "cell_type": "code",
   "execution_count": 117,
   "metadata": {},
   "outputs": [
    {
     "data": {
      "text/html": [
       "<div>\n",
       "<style scoped>\n",
       "    .dataframe tbody tr th:only-of-type {\n",
       "        vertical-align: middle;\n",
       "    }\n",
       "\n",
       "    .dataframe tbody tr th {\n",
       "        vertical-align: top;\n",
       "    }\n",
       "\n",
       "    .dataframe thead th {\n",
       "        text-align: right;\n",
       "    }\n",
       "</style>\n",
       "<table border=\"1\" class=\"dataframe\">\n",
       "  <thead>\n",
       "    <tr style=\"text-align: right;\">\n",
       "      <th></th>\n",
       "      <th>ranking</th>\n",
       "      <th>name</th>\n",
       "      <th>rating</th>\n",
       "      <th>reviewCount</th>\n",
       "      <th>phone</th>\n",
       "      <th>address</th>\n",
       "      <th>district</th>\n",
       "    </tr>\n",
       "  </thead>\n",
       "  <tbody>\n",
       "    <tr>\n",
       "      <th>0</th>\n",
       "      <td>1</td>\n",
       "      <td>Van Leeuwen Artisan Ice Cream</td>\n",
       "      <td>4.5</td>\n",
       "      <td>12</td>\n",
       "      <td>(917) 388-2904</td>\n",
       "      <td>1250 6th Ave</td>\n",
       "      <td>['Theater District']</td>\n",
       "    </tr>\n",
       "    <tr>\n",
       "      <th>1</th>\n",
       "      <td>2</td>\n",
       "      <td>Emack and Bolio’s</td>\n",
       "      <td>4.0</td>\n",
       "      <td>286</td>\n",
       "      <td>(212) 362-2747</td>\n",
       "      <td>389 Amsterdam Ave</td>\n",
       "      <td>['Upper West Side']</td>\n",
       "    </tr>\n",
       "    <tr>\n",
       "      <th>2</th>\n",
       "      <td>3</td>\n",
       "      <td>Van Leeuwen Ice Cream</td>\n",
       "      <td>4.5</td>\n",
       "      <td>23</td>\n",
       "      <td>(646) 368-9195</td>\n",
       "      <td>253 Columbus Ave</td>\n",
       "      <td>['Upper West Side']</td>\n",
       "    </tr>\n",
       "    <tr>\n",
       "      <th>3</th>\n",
       "      <td>4</td>\n",
       "      <td>Grom</td>\n",
       "      <td>4.0</td>\n",
       "      <td>594</td>\n",
       "      <td>(212) 974-3444</td>\n",
       "      <td>1796 Broadway</td>\n",
       "      <td>['Midtown West']</td>\n",
       "    </tr>\n",
       "    <tr>\n",
       "      <th>4</th>\n",
       "      <td>5</td>\n",
       "      <td>Ample Hills Creamery</td>\n",
       "      <td>4.5</td>\n",
       "      <td>348</td>\n",
       "      <td>(212) 582-9354</td>\n",
       "      <td>600 11th Ave</td>\n",
       "      <td>[\"Hell's Kitchen\"]</td>\n",
       "    </tr>\n",
       "  </tbody>\n",
       "</table>\n",
       "</div>"
      ],
      "text/plain": [
       "   ranking                           name  rating  reviewCount  \\\n",
       "0        1  Van Leeuwen Artisan Ice Cream     4.5           12   \n",
       "1        2              Emack and Bolio’s     4.0          286   \n",
       "2        3          Van Leeuwen Ice Cream     4.5           23   \n",
       "3        4                           Grom     4.0          594   \n",
       "4        5           Ample Hills Creamery     4.5          348   \n",
       "\n",
       "            phone            address              district  \n",
       "0  (917) 388-2904       1250 6th Ave  ['Theater District']  \n",
       "1  (212) 362-2747  389 Amsterdam Ave   ['Upper West Side']  \n",
       "2  (646) 368-9195   253 Columbus Ave   ['Upper West Side']  \n",
       "3  (212) 974-3444      1796 Broadway      ['Midtown West']  \n",
       "4  (212) 582-9354       600 11th Ave    [\"Hell's Kitchen\"]  "
      ]
     },
     "execution_count": 117,
     "metadata": {},
     "output_type": "execute_result"
    }
   ],
   "source": [
    "info_cream.head()"
   ]
  },
  {
   "cell_type": "code",
   "execution_count": 118,
   "metadata": {},
   "outputs": [
    {
     "data": {
      "text/plain": [
       "district\n",
       "[\"Hell's Kitchen\"]      12\n",
       "['Midtown East']        12\n",
       "['Midtown West']         9\n",
       "['Theater District']     9\n",
       "['Upper East Side']     15\n",
       "['Upper West Side']     39\n",
       "[]                       3\n",
       "Name: name, dtype: int64"
      ]
     },
     "execution_count": 118,
     "metadata": {},
     "output_type": "execute_result"
    }
   ],
   "source": [
    "info_cream.groupby('district').name.count()"
   ]
  },
  {
   "cell_type": "code",
   "execution_count": 119,
   "metadata": {},
   "outputs": [
    {
     "data": {
      "text/plain": [
       "<matplotlib.axes._subplots.AxesSubplot at 0x10f15e630>"
      ]
     },
     "execution_count": 119,
     "metadata": {},
     "output_type": "execute_result"
    },
    {
     "data": {
      "image/png": "[encoded data removed]",
      "text/plain": [
       "<Figure size 432x288 with 1 Axes>"
      ]
     },
     "metadata": {
      "needs_background": "light"
     },
     "output_type": "display_data"
    }
   ],
   "source": [
    "info_cream.groupby('district').name.count().plot(kind='bar')"
   ]
  },
  {
   "cell_type": "code",
   "execution_count": 120,
   "metadata": {},
   "outputs": [
    {
     "data": {
      "text/plain": [
       "district\n",
       "[\"Hell's Kitchen\"]      4.125000\n",
       "['Midtown East']        3.916667\n",
       "['Midtown West']        3.888889\n",
       "['Theater District']    4.000000\n",
       "['Upper East Side']     3.766667\n",
       "['Upper West Side']     3.871795\n",
       "[]                      4.333333\n",
       "Name: rating, dtype: float64"
      ]
     },
     "execution_count": 120,
     "metadata": {},
     "output_type": "execute_result"
    }
   ],
   "source": [
    "info_cream.groupby('district').rating.mean()"
   ]
  },
  {
   "cell_type": "code",
   "execution_count": 108,
   "metadata": {},
   "outputs": [
    {
     "data": {
      "text/plain": [
       "<matplotlib.axes._subplots.AxesSubplot at 0x120dab6a0>"
      ]
     },
     "execution_count": 108,
     "metadata": {},
     "output_type": "execute_result"
    },
    {
     "data": {
      "image/png": "[encoded data removed]",
      "text/plain": [
       "<Figure size 432x288 with 1 Axes>"
      ]
     },
     "metadata": {
      "needs_background": "light"
     },
     "output_type": "display_data"
    }
   ],
   "source": [
    "info_cream.groupby('district').rating.mean().plot(kind='bar')"
   ]
  },
  {
   "cell_type": "code",
   "execution_count": null,
   "metadata": {},
   "outputs": [],
   "source": []
  }
 ],
 "metadata": {
  "kernelspec": {
   "display_name": "Python 3",
   "language": "python",
   "name": "python3"
  },
  "language_info": {
   "codemirror_mode": {
    "name": "ipython",
    "version": 3
   },
   "file_extension": ".py",
   "mimetype": "text/x-python",
   "name": "python",
   "nbconvert_exporter": "python",
   "pygments_lexer": "ipython3",
   "version": "3.7.3"
  }
 },
 "nbformat": 4,
 "nbformat_minor": 2
}
